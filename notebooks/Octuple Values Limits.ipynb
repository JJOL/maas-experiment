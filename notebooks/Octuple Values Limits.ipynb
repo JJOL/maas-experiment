{
 "cells": [
  {
   "cell_type": "code",
   "execution_count": 45,
   "id": "8cb38fa6",
   "metadata": {},
   "outputs": [],
   "source": [
    "import pandas as pd\n",
    "from os import listdir\n",
    "import math"
   ]
  },
  {
   "cell_type": "code",
   "execution_count": 18,
   "id": "864b7bc8",
   "metadata": {},
   "outputs": [],
   "source": [
    "classic1 = pd.read_csv(\"../training/gtzan_token/classical/classical.00000.wav.tok\", names=['Pitch','Vel','Duration','Program','Position','Bar'])"
   ]
  },
  {
   "cell_type": "code",
   "execution_count": 42,
   "id": "7ae22277",
   "metadata": {},
   "outputs": [],
   "source": [
    "stats = classic1.iloc[:, 0:3].describe(include='all')\n",
    "\n",
    "attrs = ['Pitch', 'Vel', 'Duration']\n",
    "table = {}\n",
    "for a in attrs:\n",
    "    table[a] = { 'min': stats.loc['min', a], 'max': stats.loc['max', a], 'mean': stats.loc['mean', a]}\n"
   ]
  },
  {
   "cell_type": "code",
   "execution_count": 43,
   "id": "893fafec",
   "metadata": {},
   "outputs": [
    {
     "data": {
      "text/plain": [
       "{'Pitch': {'min': 11.0, 'max': 71.0, 'mean': 46.766666666666666},\n",
       " 'Vel': {'min': 116.0, 'max': 119.0, 'mean': 117.41944444444445},\n",
       " 'Duration': {'min': 122.0, 'max': 149.0, 'mean': 126.69722222222222}}"
      ]
     },
     "execution_count": 43,
     "metadata": {},
     "output_type": "execute_result"
    }
   ],
   "source": [
    "table"
   ]
  },
  {
   "cell_type": "code",
   "execution_count": 41,
   "id": "17a0b622",
   "metadata": {},
   "outputs": [],
   "source": [
    "files = listdir('../training/gtzan_token/classical')"
   ]
  },
  {
   "cell_type": "code",
   "execution_count": 80,
   "id": "6e748b49",
   "metadata": {},
   "outputs": [
    {
     "data": {
      "text/html": [
       "<div>\n",
       "<style scoped>\n",
       "    .dataframe tbody tr th:only-of-type {\n",
       "        vertical-align: middle;\n",
       "    }\n",
       "\n",
       "    .dataframe tbody tr th {\n",
       "        vertical-align: top;\n",
       "    }\n",
       "\n",
       "    .dataframe thead th {\n",
       "        text-align: right;\n",
       "    }\n",
       "</style>\n",
       "<table border=\"1\" class=\"dataframe\">\n",
       "  <thead>\n",
       "    <tr style=\"text-align: right;\">\n",
       "      <th></th>\n",
       "      <th>Pitch</th>\n",
       "      <th>Vel</th>\n",
       "      <th>Duration</th>\n",
       "    </tr>\n",
       "  </thead>\n",
       "  <tbody>\n",
       "    <tr>\n",
       "      <th>count</th>\n",
       "      <td>23244.000000</td>\n",
       "      <td>23244.000000</td>\n",
       "      <td>23244.000000</td>\n",
       "    </tr>\n",
       "    <tr>\n",
       "      <th>mean</th>\n",
       "      <td>44.811908</td>\n",
       "      <td>117.469368</td>\n",
       "      <td>127.922518</td>\n",
       "    </tr>\n",
       "    <tr>\n",
       "      <th>std</th>\n",
       "      <td>13.049167</td>\n",
       "      <td>1.021289</td>\n",
       "      <td>6.637002</td>\n",
       "    </tr>\n",
       "    <tr>\n",
       "      <th>min</th>\n",
       "      <td>5.000000</td>\n",
       "      <td>116.000000</td>\n",
       "      <td>121.000000</td>\n",
       "    </tr>\n",
       "    <tr>\n",
       "      <th>25%</th>\n",
       "      <td>37.000000</td>\n",
       "      <td>117.000000</td>\n",
       "      <td>124.000000</td>\n",
       "    </tr>\n",
       "    <tr>\n",
       "      <th>50%</th>\n",
       "      <td>45.000000</td>\n",
       "      <td>117.000000</td>\n",
       "      <td>126.000000</td>\n",
       "    </tr>\n",
       "    <tr>\n",
       "      <th>75%</th>\n",
       "      <td>54.000000</td>\n",
       "      <td>118.000000</td>\n",
       "      <td>130.000000</td>\n",
       "    </tr>\n",
       "    <tr>\n",
       "      <th>max</th>\n",
       "      <td>86.000000</td>\n",
       "      <td>120.000000</td>\n",
       "      <td>184.000000</td>\n",
       "    </tr>\n",
       "  </tbody>\n",
       "</table>\n",
       "</div>"
      ],
      "text/plain": [
       "              Pitch           Vel      Duration\n",
       "count  23244.000000  23244.000000  23244.000000\n",
       "mean      44.811908    117.469368    127.922518\n",
       "std       13.049167      1.021289      6.637002\n",
       "min        5.000000    116.000000    121.000000\n",
       "25%       37.000000    117.000000    124.000000\n",
       "50%       45.000000    117.000000    126.000000\n",
       "75%       54.000000    118.000000    130.000000\n",
       "max       86.000000    120.000000    184.000000"
      ]
     },
     "execution_count": 80,
     "metadata": {},
     "output_type": "execute_result"
    }
   ],
   "source": [
    "attrs = ['Pitch', 'Vel', 'Duration']\n",
    "stat_vars = ['max', 'mean', 'min']\n",
    "\n",
    "files = listdir('../training/gtzan_token/classical')\n",
    "token_data= pd.read_csv(f\"../training/gtzan_token/classical/{files[0]}\", names=['Pitch','Vel','Duration','Program','Position','Bar'])\n",
    "files = files[1:]\n",
    "\n",
    "for f in files:\n",
    "    f_data = pd.read_csv(f\"../training/gtzan_token/classical/{f}\", names=['Pitch','Vel','Duration','Program','Position','Bar'])\n",
    "    token_data = pd.concat([token_data, f_data], ignore_index=True)\n",
    "        \n",
    "    \n",
    "stats = token_data.iloc[:, 0:3].describe(include='all')\n",
    "stats"
   ]
  },
  {
   "cell_type": "code",
   "execution_count": 81,
   "id": "b9ac61b0",
   "metadata": {},
   "outputs": [],
   "source": [
    "files = listdir('../training/gtzan_token/hiphop')\n",
    "for f in files:\n",
    "    f_data = pd.read_csv(f\"../training/gtzan_token/hiphop/{f}\", names=['Pitch','Vel','Duration','Program','Position','Bar'])\n",
    "    token_data = pd.concat([token_data, f_data], ignore_index=True)"
   ]
  },
  {
   "cell_type": "code",
   "execution_count": 82,
   "id": "09ca8fe0",
   "metadata": {},
   "outputs": [
    {
     "data": {
      "text/html": [
       "<div>\n",
       "<style scoped>\n",
       "    .dataframe tbody tr th:only-of-type {\n",
       "        vertical-align: middle;\n",
       "    }\n",
       "\n",
       "    .dataframe tbody tr th {\n",
       "        vertical-align: top;\n",
       "    }\n",
       "\n",
       "    .dataframe thead th {\n",
       "        text-align: right;\n",
       "    }\n",
       "</style>\n",
       "<table border=\"1\" class=\"dataframe\">\n",
       "  <thead>\n",
       "    <tr style=\"text-align: right;\">\n",
       "      <th></th>\n",
       "      <th>Pitch</th>\n",
       "      <th>Vel</th>\n",
       "      <th>Duration</th>\n",
       "    </tr>\n",
       "  </thead>\n",
       "  <tbody>\n",
       "    <tr>\n",
       "      <th>count</th>\n",
       "      <td>39714.000000</td>\n",
       "      <td>39714.000000</td>\n",
       "      <td>39714.000000</td>\n",
       "    </tr>\n",
       "    <tr>\n",
       "      <th>mean</th>\n",
       "      <td>38.144886</td>\n",
       "      <td>117.473485</td>\n",
       "      <td>126.389837</td>\n",
       "    </tr>\n",
       "    <tr>\n",
       "      <th>std</th>\n",
       "      <td>16.414282</td>\n",
       "      <td>0.998659</td>\n",
       "      <td>5.876743</td>\n",
       "    </tr>\n",
       "    <tr>\n",
       "      <th>min</th>\n",
       "      <td>2.000000</td>\n",
       "      <td>116.000000</td>\n",
       "      <td>121.000000</td>\n",
       "    </tr>\n",
       "    <tr>\n",
       "      <th>25%</th>\n",
       "      <td>25.000000</td>\n",
       "      <td>117.000000</td>\n",
       "      <td>123.000000</td>\n",
       "    </tr>\n",
       "    <tr>\n",
       "      <th>50%</th>\n",
       "      <td>40.000000</td>\n",
       "      <td>117.000000</td>\n",
       "      <td>125.000000</td>\n",
       "    </tr>\n",
       "    <tr>\n",
       "      <th>75%</th>\n",
       "      <td>50.000000</td>\n",
       "      <td>118.000000</td>\n",
       "      <td>128.000000</td>\n",
       "    </tr>\n",
       "    <tr>\n",
       "      <th>max</th>\n",
       "      <td>86.000000</td>\n",
       "      <td>120.000000</td>\n",
       "      <td>184.000000</td>\n",
       "    </tr>\n",
       "  </tbody>\n",
       "</table>\n",
       "</div>"
      ],
      "text/plain": [
       "              Pitch           Vel      Duration\n",
       "count  39714.000000  39714.000000  39714.000000\n",
       "mean      38.144886    117.473485    126.389837\n",
       "std       16.414282      0.998659      5.876743\n",
       "min        2.000000    116.000000    121.000000\n",
       "25%       25.000000    117.000000    123.000000\n",
       "50%       40.000000    117.000000    125.000000\n",
       "75%       50.000000    118.000000    128.000000\n",
       "max       86.000000    120.000000    184.000000"
      ]
     },
     "execution_count": 82,
     "metadata": {},
     "output_type": "execute_result"
    }
   ],
   "source": [
    "stats = token_data.iloc[:, 0:3].describe(include='all')\n",
    "stats"
   ]
  },
  {
   "cell_type": "code",
   "execution_count": 83,
   "id": "3d4e01c5",
   "metadata": {},
   "outputs": [
    {
     "data": {
      "image/png": "[encoded data removed]",
      "text/plain": [
       "<Figure size 1080x360 with 2 Axes>"
      ]
     },
     "metadata": {
      "needs_background": "light"
     },
     "output_type": "display_data"
    }
   ],
   "source": [
    "import matplotlib.pyplot as plt\n",
    "\n",
    "fig, axes = plt.subplots(nrows=1, ncols=2, figsize=(15,5))\n",
    "\n",
    "boxplot = token_data.boxplot(column=['Pitch'], ax=axes[0])\n",
    "histogram = token_data.hist(column=['Pitch'], ax=axes[1])"
   ]
  },
  {
   "cell_type": "code",
   "execution_count": 71,
   "id": "cff29079",
   "metadata": {},
   "outputs": [
    {
     "data": {
      "image/png": "[encoded data removed]",
      "text/plain": [
       "<Figure size 1080x360 with 2 Axes>"
      ]
     },
     "metadata": {
      "needs_background": "light"
     },
     "output_type": "display_data"
    }
   ],
   "source": [
    "fig, axes = plt.subplots(nrows=1, ncols=2, figsize=(15,5))\n",
    "\n",
    "boxplot = token_data.boxplot(column=['Vel'], ax=axes[0])\n",
    "histogram = token_data.hist(column=['Vel'], ax=axes[1])"
   ]
  },
  {
   "cell_type": "code",
   "execution_count": 72,
   "id": "37dff769",
   "metadata": {},
   "outputs": [
    {
     "data": {
      "image/png": "[encoded data removed]",
      "text/plain": [
       "<Figure size 1080x360 with 2 Axes>"
      ]
     },
     "metadata": {
      "needs_background": "light"
     },
     "output_type": "display_data"
    }
   ],
   "source": [
    "fig, axes = plt.subplots(nrows=1, ncols=2, figsize=(15,5))\n",
    "\n",
    "boxplot = token_data.boxplot(column=['Duration'], ax=axes[0])\n",
    "histogram = token_data.hist(column=['Duration'], ax=axes[1])"
   ]
  },
  {
   "cell_type": "code",
   "execution_count": 55,
   "id": "4a58f31f",
   "metadata": {},
   "outputs": [],
   "source": [
    "token_data = pd.concat([token_data, f_data], ignore_index=True)"
   ]
  },
  {
   "cell_type": "code",
   "execution_count": 57,
   "id": "9d37e93e",
   "metadata": {},
   "outputs": [
    {
     "data": {
      "text/html": [
       "<div>\n",
       "<style scoped>\n",
       "    .dataframe tbody tr th:only-of-type {\n",
       "        vertical-align: middle;\n",
       "    }\n",
       "\n",
       "    .dataframe tbody tr th {\n",
       "        vertical-align: top;\n",
       "    }\n",
       "\n",
       "    .dataframe thead th {\n",
       "        text-align: right;\n",
       "    }\n",
       "</style>\n",
       "<table border=\"1\" class=\"dataframe\">\n",
       "  <thead>\n",
       "    <tr style=\"text-align: right;\">\n",
       "      <th></th>\n",
       "      <th>Pitch</th>\n",
       "      <th>Vel</th>\n",
       "      <th>Duration</th>\n",
       "      <th>Program</th>\n",
       "      <th>Position</th>\n",
       "      <th>Bar</th>\n",
       "    </tr>\n",
       "  </thead>\n",
       "  <tbody>\n",
       "    <tr>\n",
       "      <th>0</th>\n",
       "      <td>43</td>\n",
       "      <td>118</td>\n",
       "      <td>126</td>\n",
       "      <td>250</td>\n",
       "      <td>185</td>\n",
       "      <td>379</td>\n",
       "    </tr>\n",
       "    <tr>\n",
       "      <th>1</th>\n",
       "      <td>47</td>\n",
       "      <td>119</td>\n",
       "      <td>132</td>\n",
       "      <td>250</td>\n",
       "      <td>185</td>\n",
       "      <td>379</td>\n",
       "    </tr>\n",
       "    <tr>\n",
       "      <th>2</th>\n",
       "      <td>26</td>\n",
       "      <td>117</td>\n",
       "      <td>128</td>\n",
       "      <td>250</td>\n",
       "      <td>190</td>\n",
       "      <td>379</td>\n",
       "    </tr>\n",
       "    <tr>\n",
       "      <th>3</th>\n",
       "      <td>31</td>\n",
       "      <td>117</td>\n",
       "      <td>123</td>\n",
       "      <td>250</td>\n",
       "      <td>190</td>\n",
       "      <td>379</td>\n",
       "    </tr>\n",
       "    <tr>\n",
       "      <th>4</th>\n",
       "      <td>35</td>\n",
       "      <td>117</td>\n",
       "      <td>123</td>\n",
       "      <td>250</td>\n",
       "      <td>190</td>\n",
       "      <td>379</td>\n",
       "    </tr>\n",
       "    <tr>\n",
       "      <th>...</th>\n",
       "      <td>...</td>\n",
       "      <td>...</td>\n",
       "      <td>...</td>\n",
       "      <td>...</td>\n",
       "      <td>...</td>\n",
       "      <td>...</td>\n",
       "    </tr>\n",
       "    <tr>\n",
       "      <th>275</th>\n",
       "      <td>35</td>\n",
       "      <td>118</td>\n",
       "      <td>123</td>\n",
       "      <td>250</td>\n",
       "      <td>205</td>\n",
       "      <td>391</td>\n",
       "    </tr>\n",
       "    <tr>\n",
       "      <th>276</th>\n",
       "      <td>38</td>\n",
       "      <td>119</td>\n",
       "      <td>125</td>\n",
       "      <td>250</td>\n",
       "      <td>205</td>\n",
       "      <td>391</td>\n",
       "    </tr>\n",
       "    <tr>\n",
       "      <th>277</th>\n",
       "      <td>55</td>\n",
       "      <td>119</td>\n",
       "      <td>125</td>\n",
       "      <td>250</td>\n",
       "      <td>205</td>\n",
       "      <td>391</td>\n",
       "    </tr>\n",
       "    <tr>\n",
       "      <th>278</th>\n",
       "      <td>43</td>\n",
       "      <td>118</td>\n",
       "      <td>136</td>\n",
       "      <td>250</td>\n",
       "      <td>206</td>\n",
       "      <td>391</td>\n",
       "    </tr>\n",
       "    <tr>\n",
       "      <th>279</th>\n",
       "      <td>40</td>\n",
       "      <td>119</td>\n",
       "      <td>126</td>\n",
       "      <td>250</td>\n",
       "      <td>212</td>\n",
       "      <td>391</td>\n",
       "    </tr>\n",
       "  </tbody>\n",
       "</table>\n",
       "<p>280 rows × 6 columns</p>\n",
       "</div>"
      ],
      "text/plain": [
       "     Pitch  Vel  Duration  Program  Position  Bar\n",
       "0       43  118       126      250       185  379\n",
       "1       47  119       132      250       185  379\n",
       "2       26  117       128      250       190  379\n",
       "3       31  117       123      250       190  379\n",
       "4       35  117       123      250       190  379\n",
       "..     ...  ...       ...      ...       ...  ...\n",
       "275     35  118       123      250       205  391\n",
       "276     38  119       125      250       205  391\n",
       "277     55  119       125      250       205  391\n",
       "278     43  118       136      250       206  391\n",
       "279     40  119       126      250       212  391\n",
       "\n",
       "[280 rows x 6 columns]"
      ]
     },
     "execution_count": 57,
     "metadata": {},
     "output_type": "execute_result"
    }
   ],
   "source": [
    "f_data"
   ]
  }
 ],
 "metadata": {
  "kernelspec": {
   "display_name": "Python 3 (ipykernel)",
   "language": "python",
   "name": "python3"
  },
  "language_info": {
   "codemirror_mode": {
    "name": "ipython",
    "version": 3
   },
   "file_extension": ".py",
   "mimetype": "text/x-python",
   "name": "python",
   "nbconvert_exporter": "python",
   "pygments_lexer": "ipython3",
   "version": "3.8.10"
  }
 },
 "nbformat": 4,
 "nbformat_minor": 5
}
